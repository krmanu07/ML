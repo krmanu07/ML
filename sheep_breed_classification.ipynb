{
  "nbformat": 4,
  "nbformat_minor": 0,
  "metadata": {
    "colab": {
      "provenance": [],
      "gpuType": "T4",
      "authorship_tag": "ABX9TyMA1ALI95sK2Ax0dwA2Y9VK",
      "include_colab_link": true
    },
    "kernelspec": {
      "name": "python3",
      "display_name": "Python 3"
    },
    "language_info": {
      "name": "python"
    },
    "accelerator": "GPU"
  },
  "cells": [
    {
      "cell_type": "markdown",
      "metadata": {
        "id": "view-in-github",
        "colab_type": "text"
      },
      "source": [
        "<a href=\"https://colab.research.google.com/github/krmanu07/ML/blob/master/sheep_breed_classification.ipynb\" target=\"_parent\"><img src=\"https://colab.research.google.com/assets/colab-badge.svg\" alt=\"Open In Colab\"/></a>"
      ]
    },
    {
      "cell_type": "code",
      "execution_count": 1,
      "metadata": {
        "colab": {
          "base_uri": "https://localhost:8080/"
        },
        "id": "J6ruOMt7h3h1",
        "outputId": "76a75f55-3a4d-4809-e94e-857acb5e5627"
      },
      "outputs": [
        {
          "output_type": "stream",
          "name": "stdout",
          "text": [
            "Mounted at /content/drive\n"
          ]
        }
      ],
      "source": [
        "from google.colab import drive\n",
        "drive.mount('/content/drive')"
      ]
    },
    {
      "cell_type": "code",
      "source": [
        "# kaggle datasets download -d divyansh22/sheep-breed-classification"
      ],
      "metadata": {
        "id": "k0ngTjYWiJ6l"
      },
      "execution_count": 2,
      "outputs": []
    },
    {
      "cell_type": "code",
      "source": [
        "!pip install -q kaggle"
      ],
      "metadata": {
        "id": "4MJR6TDkiVrn"
      },
      "execution_count": 3,
      "outputs": []
    },
    {
      "cell_type": "code",
      "source": [
        "from google.colab import files\n",
        "files.upload()"
      ],
      "metadata": {
        "colab": {
          "base_uri": "https://localhost:8080/",
          "height": 91
        },
        "id": "x6T4-WZeiYEX",
        "outputId": "18706c58-f75e-4570-b388-390ee3e9f1ed"
      },
      "execution_count": 4,
      "outputs": [
        {
          "output_type": "display_data",
          "data": {
            "text/plain": [
              "<IPython.core.display.HTML object>"
            ],
            "text/html": [
              "\n",
              "     <input type=\"file\" id=\"files-61732750-9546-42db-b720-0fccc738d3f9\" name=\"files[]\" multiple disabled\n",
              "        style=\"border:none\" />\n",
              "     <output id=\"result-61732750-9546-42db-b720-0fccc738d3f9\">\n",
              "      Upload widget is only available when the cell has been executed in the\n",
              "      current browser session. Please rerun this cell to enable.\n",
              "      </output>\n",
              "      <script>// Copyright 2017 Google LLC\n",
              "//\n",
              "// Licensed under the Apache License, Version 2.0 (the \"License\");\n",
              "// you may not use this file except in compliance with the License.\n",
              "// You may obtain a copy of the License at\n",
              "//\n",
              "//      http://www.apache.org/licenses/LICENSE-2.0\n",
              "//\n",
              "// Unless required by applicable law or agreed to in writing, software\n",
              "// distributed under the License is distributed on an \"AS IS\" BASIS,\n",
              "// WITHOUT WARRANTIES OR CONDITIONS OF ANY KIND, either express or implied.\n",
              "// See the License for the specific language governing permissions and\n",
              "// limitations under the License.\n",
              "\n",
              "/**\n",
              " * @fileoverview Helpers for google.colab Python module.\n",
              " */\n",
              "(function(scope) {\n",
              "function span(text, styleAttributes = {}) {\n",
              "  const element = document.createElement('span');\n",
              "  element.textContent = text;\n",
              "  for (const key of Object.keys(styleAttributes)) {\n",
              "    element.style[key] = styleAttributes[key];\n",
              "  }\n",
              "  return element;\n",
              "}\n",
              "\n",
              "// Max number of bytes which will be uploaded at a time.\n",
              "const MAX_PAYLOAD_SIZE = 100 * 1024;\n",
              "\n",
              "function _uploadFiles(inputId, outputId) {\n",
              "  const steps = uploadFilesStep(inputId, outputId);\n",
              "  const outputElement = document.getElementById(outputId);\n",
              "  // Cache steps on the outputElement to make it available for the next call\n",
              "  // to uploadFilesContinue from Python.\n",
              "  outputElement.steps = steps;\n",
              "\n",
              "  return _uploadFilesContinue(outputId);\n",
              "}\n",
              "\n",
              "// This is roughly an async generator (not supported in the browser yet),\n",
              "// where there are multiple asynchronous steps and the Python side is going\n",
              "// to poll for completion of each step.\n",
              "// This uses a Promise to block the python side on completion of each step,\n",
              "// then passes the result of the previous step as the input to the next step.\n",
              "function _uploadFilesContinue(outputId) {\n",
              "  const outputElement = document.getElementById(outputId);\n",
              "  const steps = outputElement.steps;\n",
              "\n",
              "  const next = steps.next(outputElement.lastPromiseValue);\n",
              "  return Promise.resolve(next.value.promise).then((value) => {\n",
              "    // Cache the last promise value to make it available to the next\n",
              "    // step of the generator.\n",
              "    outputElement.lastPromiseValue = value;\n",
              "    return next.value.response;\n",
              "  });\n",
              "}\n",
              "\n",
              "/**\n",
              " * Generator function which is called between each async step of the upload\n",
              " * process.\n",
              " * @param {string} inputId Element ID of the input file picker element.\n",
              " * @param {string} outputId Element ID of the output display.\n",
              " * @return {!Iterable<!Object>} Iterable of next steps.\n",
              " */\n",
              "function* uploadFilesStep(inputId, outputId) {\n",
              "  const inputElement = document.getElementById(inputId);\n",
              "  inputElement.disabled = false;\n",
              "\n",
              "  const outputElement = document.getElementById(outputId);\n",
              "  outputElement.innerHTML = '';\n",
              "\n",
              "  const pickedPromise = new Promise((resolve) => {\n",
              "    inputElement.addEventListener('change', (e) => {\n",
              "      resolve(e.target.files);\n",
              "    });\n",
              "  });\n",
              "\n",
              "  const cancel = document.createElement('button');\n",
              "  inputElement.parentElement.appendChild(cancel);\n",
              "  cancel.textContent = 'Cancel upload';\n",
              "  const cancelPromise = new Promise((resolve) => {\n",
              "    cancel.onclick = () => {\n",
              "      resolve(null);\n",
              "    };\n",
              "  });\n",
              "\n",
              "  // Wait for the user to pick the files.\n",
              "  const files = yield {\n",
              "    promise: Promise.race([pickedPromise, cancelPromise]),\n",
              "    response: {\n",
              "      action: 'starting',\n",
              "    }\n",
              "  };\n",
              "\n",
              "  cancel.remove();\n",
              "\n",
              "  // Disable the input element since further picks are not allowed.\n",
              "  inputElement.disabled = true;\n",
              "\n",
              "  if (!files) {\n",
              "    return {\n",
              "      response: {\n",
              "        action: 'complete',\n",
              "      }\n",
              "    };\n",
              "  }\n",
              "\n",
              "  for (const file of files) {\n",
              "    const li = document.createElement('li');\n",
              "    li.append(span(file.name, {fontWeight: 'bold'}));\n",
              "    li.append(span(\n",
              "        `(${file.type || 'n/a'}) - ${file.size} bytes, ` +\n",
              "        `last modified: ${\n",
              "            file.lastModifiedDate ? file.lastModifiedDate.toLocaleDateString() :\n",
              "                                    'n/a'} - `));\n",
              "    const percent = span('0% done');\n",
              "    li.appendChild(percent);\n",
              "\n",
              "    outputElement.appendChild(li);\n",
              "\n",
              "    const fileDataPromise = new Promise((resolve) => {\n",
              "      const reader = new FileReader();\n",
              "      reader.onload = (e) => {\n",
              "        resolve(e.target.result);\n",
              "      };\n",
              "      reader.readAsArrayBuffer(file);\n",
              "    });\n",
              "    // Wait for the data to be ready.\n",
              "    let fileData = yield {\n",
              "      promise: fileDataPromise,\n",
              "      response: {\n",
              "        action: 'continue',\n",
              "      }\n",
              "    };\n",
              "\n",
              "    // Use a chunked sending to avoid message size limits. See b/62115660.\n",
              "    let position = 0;\n",
              "    do {\n",
              "      const length = Math.min(fileData.byteLength - position, MAX_PAYLOAD_SIZE);\n",
              "      const chunk = new Uint8Array(fileData, position, length);\n",
              "      position += length;\n",
              "\n",
              "      const base64 = btoa(String.fromCharCode.apply(null, chunk));\n",
              "      yield {\n",
              "        response: {\n",
              "          action: 'append',\n",
              "          file: file.name,\n",
              "          data: base64,\n",
              "        },\n",
              "      };\n",
              "\n",
              "      let percentDone = fileData.byteLength === 0 ?\n",
              "          100 :\n",
              "          Math.round((position / fileData.byteLength) * 100);\n",
              "      percent.textContent = `${percentDone}% done`;\n",
              "\n",
              "    } while (position < fileData.byteLength);\n",
              "  }\n",
              "\n",
              "  // All done.\n",
              "  yield {\n",
              "    response: {\n",
              "      action: 'complete',\n",
              "    }\n",
              "  };\n",
              "}\n",
              "\n",
              "scope.google = scope.google || {};\n",
              "scope.google.colab = scope.google.colab || {};\n",
              "scope.google.colab._files = {\n",
              "  _uploadFiles,\n",
              "  _uploadFilesContinue,\n",
              "};\n",
              "})(self);\n",
              "</script> "
            ]
          },
          "metadata": {}
        },
        {
          "output_type": "stream",
          "name": "stdout",
          "text": [
            "Saving kaggle (2).json to kaggle (2).json\n"
          ]
        },
        {
          "output_type": "execute_result",
          "data": {
            "text/plain": [
              "{'kaggle (2).json': b'{\"username\":\"catratmanu\",\"key\":\"589976db9d2232c6146be908287df238\"}'}"
            ]
          },
          "metadata": {},
          "execution_count": 4
        }
      ]
    },
    {
      "cell_type": "code",
      "source": [
        "!mkdir ~/.kaggle"
      ],
      "metadata": {
        "id": "7uV4GzhfiZLH"
      },
      "execution_count": 5,
      "outputs": []
    },
    {
      "cell_type": "code",
      "source": [
        "!cp kaggle.json ~/.kaggle/"
      ],
      "metadata": {
        "id": "-INzT3Q9iep5"
      },
      "execution_count": 7,
      "outputs": []
    },
    {
      "cell_type": "code",
      "source": [
        "!chmod 600 ~/.kaggle/kaggle.json"
      ],
      "metadata": {
        "id": "YyXLSO_tifpk"
      },
      "execution_count": 8,
      "outputs": []
    },
    {
      "cell_type": "code",
      "source": [
        "!kaggle datasets download -d divyansh22/sheep-breed-classification"
      ],
      "metadata": {
        "colab": {
          "base_uri": "https://localhost:8080/"
        },
        "id": "i8mCIyVHik8B",
        "outputId": "0f57663d-0f08-43de-d835-d5fb0d25a2ef"
      },
      "execution_count": 9,
      "outputs": [
        {
          "output_type": "stream",
          "name": "stdout",
          "text": [
            "Downloading sheep-breed-classification.zip to /content\n",
            " 84% 9.00M/10.7M [00:00<00:00, 54.9MB/s]\n",
            "100% 10.7M/10.7M [00:00<00:00, 63.4MB/s]\n"
          ]
        }
      ]
    },
    {
      "cell_type": "code",
      "source": [
        "!unzip '/content/sheep-breed-classification.zip' -d '/content/sheep-breed-classification'"
      ],
      "metadata": {
        "id": "ThayFKc0iptU"
      },
      "execution_count": null,
      "outputs": []
    },
    {
      "cell_type": "code",
      "source": [
        "import numpy as np\n",
        "import cv2\n",
        "import os\n",
        "import matplotlib.pyplot as plt\n",
        "from skimage.transform import rotate\n",
        "%matplotlib inline"
      ],
      "metadata": {
        "id": "xlLtbZrCivtx"
      },
      "execution_count": 29,
      "outputs": []
    },
    {
      "cell_type": "code",
      "source": [
        "dir_ = r'/content/sheep-breed-classification/SheepFaceImages'"
      ],
      "metadata": {
        "id": "P687j1cKi8fS"
      },
      "execution_count": 12,
      "outputs": []
    },
    {
      "cell_type": "code",
      "source": [
        "types = [i for i in os.listdir(dir_)]"
      ],
      "metadata": {
        "id": "cBFwNqsTi_2l"
      },
      "execution_count": 13,
      "outputs": []
    },
    {
      "cell_type": "code",
      "source": [
        "types"
      ],
      "metadata": {
        "colab": {
          "base_uri": "https://localhost:8080/"
        },
        "id": "UxerlX5NjLbf",
        "outputId": "409949fc-6fa4-43e6-a0c9-19916de38d14"
      },
      "execution_count": 15,
      "outputs": [
        {
          "output_type": "execute_result",
          "data": {
            "text/plain": [
              "['White Suffolk', 'Poll Dorset', 'Suffolk', 'Marino']"
            ]
          },
          "metadata": {},
          "execution_count": 15
        }
      ]
    },
    {
      "cell_type": "code",
      "source": [
        "types = ['White Suffolk', 'Poll Dorset', 'Suffolk', 'Marino']\n",
        "images = []\n",
        "labels = []\n",
        "h, w = 50, 200\n",
        "for i, breed in enumerate(types):\n",
        "    img_path = dir_ + '/' + breed\n",
        "    for j in os.listdir(img_path):\n",
        "        img = cv2.imread(os.path.join(img_path, j), 0)\n",
        "        for angle in range(3):\n",
        "            new_img = (rotate(img, np.random.choice([-5, -4, -3, -2, -1, 1, 2, 3, 4, 5])) * 255).astype('uint8')\n",
        "            new_img = cv2.resize(new_img, (w, h), cv2.INTER_CUBIC)\n",
        "            new_img = np.array([new_img]).reshape(h, w, 1)\n",
        "            images.append(new_img)\n",
        "            label = [0] * len(types)\n",
        "            label[i] = 1  # Set the corresponding breed index to 1\n",
        "            labels.append(label)\n",
        "        img = cv2.resize(img, (w, h), cv2.INTER_CUBIC)\n",
        "        img = np.array([img]).reshape(h, w, 1)\n",
        "        images.append(img)\n",
        "        label = [0] * len(types)\n",
        "        label[i] = 1  # Set the corresponding breed index to 1\n",
        "        labels.append(label)\n",
        "\n",
        "images = np.array(images)/255\n",
        "labels = np.array(labels)\n",
        "print(images.shape)\n",
        "print(labels.shape)"
      ],
      "metadata": {
        "colab": {
          "base_uri": "https://localhost:8080/"
        },
        "id": "Hj-PlFK0jYm2",
        "outputId": "2bc72140-db7f-40d3-d6ab-e70d27103a65"
      },
      "execution_count": 59,
      "outputs": [
        {
          "output_type": "stream",
          "name": "stdout",
          "text": [
            "(6720, 50, 200, 1)\n",
            "(6720, 4)\n"
          ]
        }
      ]
    },
    {
      "cell_type": "code",
      "source": [
        "labels[6719]"
      ],
      "metadata": {
        "colab": {
          "base_uri": "https://localhost:8080/"
        },
        "id": "LQrWW2Kdj5a8",
        "outputId": "ab4082c3-faa8-4fd5-f0f7-d146c9841611"
      },
      "execution_count": 58,
      "outputs": [
        {
          "output_type": "execute_result",
          "data": {
            "text/plain": [
              "[0, 0, 0, 1]"
            ]
          },
          "metadata": {},
          "execution_count": 58
        }
      ]
    },
    {
      "cell_type": "code",
      "source": [
        "import tensorflow as tf\n",
        "from tensorflow.keras import layers as ly\n",
        "from tensorflow.keras.models import Sequential"
      ],
      "metadata": {
        "id": "OBCEfjaomAmK"
      },
      "execution_count": 60,
      "outputs": []
    },
    {
      "cell_type": "code",
      "source": [
        "model = Sequential()\n",
        "model.add(ly.Conv2D(32, (3,3), input_shape= (h,w, 1), activation = 'relu'))\n",
        "model.add(ly.MaxPooling2D((2,2)))\n",
        "model.add(ly.Conv2D(64, (3,3), activation = 'relu'))\n",
        "model.add(ly.MaxPooling2D((2,2)))\n",
        "model.add(ly.Conv2D(128, (3,3), activation = 'relu'))\n",
        "model.add(ly.MaxPooling2D((3,3)))\n",
        "model.add(ly.Flatten())\n",
        "model.add(ly.Dense(32, activation = 'relu'))\n",
        "model.add(ly.Dense(64, activation = 'relu'))\n",
        "model.add(ly.Dense(4, activation = 'softmax'))\n",
        "model.summary()"
      ],
      "metadata": {
        "colab": {
          "base_uri": "https://localhost:8080/"
        },
        "id": "YRt-q5tim2xI",
        "outputId": "9f2bf56d-076e-4bb1-ddc3-1d8b0f334c8e"
      },
      "execution_count": 63,
      "outputs": [
        {
          "output_type": "stream",
          "name": "stdout",
          "text": [
            "Model: \"sequential_1\"\n",
            "_________________________________________________________________\n",
            " Layer (type)                Output Shape              Param #   \n",
            "=================================================================\n",
            " conv2d_3 (Conv2D)           (None, 48, 198, 32)       320       \n",
            "                                                                 \n",
            " max_pooling2d_3 (MaxPooling  (None, 24, 99, 32)       0         \n",
            " 2D)                                                             \n",
            "                                                                 \n",
            " conv2d_4 (Conv2D)           (None, 22, 97, 64)        18496     \n",
            "                                                                 \n",
            " max_pooling2d_4 (MaxPooling  (None, 11, 48, 64)       0         \n",
            " 2D)                                                             \n",
            "                                                                 \n",
            " conv2d_5 (Conv2D)           (None, 9, 46, 128)        73856     \n",
            "                                                                 \n",
            " max_pooling2d_5 (MaxPooling  (None, 3, 15, 128)       0         \n",
            " 2D)                                                             \n",
            "                                                                 \n",
            " flatten_1 (Flatten)         (None, 5760)              0         \n",
            "                                                                 \n",
            " dense_3 (Dense)             (None, 32)                184352    \n",
            "                                                                 \n",
            " dense_4 (Dense)             (None, 64)                2112      \n",
            "                                                                 \n",
            " dense_5 (Dense)             (None, 4)                 260       \n",
            "                                                                 \n",
            "=================================================================\n",
            "Total params: 279,396\n",
            "Trainable params: 279,396\n",
            "Non-trainable params: 0\n",
            "_________________________________________________________________\n"
          ]
        }
      ]
    },
    {
      "cell_type": "code",
      "source": [
        "model.compile(loss = 'mean_squared_error', optimizer = 'adam', metrics = ['accuracy'])\n",
        "model.fit(images, labels, validation_split=0.15, shuffle = True, epochs = 40, batch_size = 32)"
      ],
      "metadata": {
        "colab": {
          "base_uri": "https://localhost:8080/"
        },
        "id": "xm_tHMsem66f",
        "outputId": "c91f2ced-f129-483e-9d42-01b59a0076ae"
      },
      "execution_count": 64,
      "outputs": [
        {
          "output_type": "stream",
          "name": "stdout",
          "text": [
            "Epoch 1/40\n",
            "179/179 [==============================] - 15s 17ms/step - loss: 0.1248 - accuracy: 0.5802 - val_loss: 0.2062 - val_accuracy: 0.3730\n",
            "Epoch 2/40\n",
            "179/179 [==============================] - 2s 12ms/step - loss: 0.0650 - accuracy: 0.8267 - val_loss: 0.2954 - val_accuracy: 0.1716\n",
            "Epoch 3/40\n",
            "179/179 [==============================] - 2s 11ms/step - loss: 0.0421 - accuracy: 0.8874 - val_loss: 0.1522 - val_accuracy: 0.5843\n",
            "Epoch 4/40\n",
            "179/179 [==============================] - 2s 11ms/step - loss: 0.0285 - accuracy: 0.9273 - val_loss: 0.2752 - val_accuracy: 0.2679\n",
            "Epoch 5/40\n",
            "179/179 [==============================] - 2s 11ms/step - loss: 0.0232 - accuracy: 0.9396 - val_loss: 0.1364 - val_accuracy: 0.6389\n",
            "Epoch 6/40\n",
            "179/179 [==============================] - 2s 11ms/step - loss: 0.0141 - accuracy: 0.9641 - val_loss: 0.1392 - val_accuracy: 0.6300\n",
            "Epoch 7/40\n",
            "179/179 [==============================] - 2s 13ms/step - loss: 0.0118 - accuracy: 0.9702 - val_loss: 0.1947 - val_accuracy: 0.5198\n",
            "Epoch 8/40\n",
            "179/179 [==============================] - 2s 12ms/step - loss: 0.0104 - accuracy: 0.9746 - val_loss: 0.1517 - val_accuracy: 0.6220\n",
            "Epoch 9/40\n",
            "179/179 [==============================] - 2s 11ms/step - loss: 0.0059 - accuracy: 0.9865 - val_loss: 0.1925 - val_accuracy: 0.5407\n",
            "Epoch 10/40\n",
            "179/179 [==============================] - 2s 11ms/step - loss: 0.0087 - accuracy: 0.9785 - val_loss: 0.1190 - val_accuracy: 0.6905\n",
            "Epoch 11/40\n",
            "179/179 [==============================] - 2s 11ms/step - loss: 0.0065 - accuracy: 0.9835 - val_loss: 0.1385 - val_accuracy: 0.6558\n",
            "Epoch 12/40\n",
            "179/179 [==============================] - 2s 11ms/step - loss: 0.0080 - accuracy: 0.9807 - val_loss: 0.1025 - val_accuracy: 0.7460\n",
            "Epoch 13/40\n",
            "179/179 [==============================] - 2s 12ms/step - loss: 0.0026 - accuracy: 0.9940 - val_loss: 0.1216 - val_accuracy: 0.6984\n",
            "Epoch 14/40\n",
            "179/179 [==============================] - 2s 13ms/step - loss: 0.0050 - accuracy: 0.9877 - val_loss: 0.2775 - val_accuracy: 0.3641\n",
            "Epoch 15/40\n",
            "179/179 [==============================] - 2s 12ms/step - loss: 0.0038 - accuracy: 0.9916 - val_loss: 0.1137 - val_accuracy: 0.7232\n",
            "Epoch 16/40\n",
            "179/179 [==============================] - 2s 12ms/step - loss: 0.0032 - accuracy: 0.9930 - val_loss: 0.1811 - val_accuracy: 0.5744\n",
            "Epoch 17/40\n",
            "179/179 [==============================] - 2s 11ms/step - loss: 0.0023 - accuracy: 0.9949 - val_loss: 0.1873 - val_accuracy: 0.5665\n",
            "Epoch 18/40\n",
            "179/179 [==============================] - 2s 11ms/step - loss: 0.0037 - accuracy: 0.9911 - val_loss: 0.1204 - val_accuracy: 0.7143\n",
            "Epoch 19/40\n",
            "179/179 [==============================] - 2s 12ms/step - loss: 0.0051 - accuracy: 0.9876 - val_loss: 0.1920 - val_accuracy: 0.5575\n",
            "Epoch 20/40\n",
            "179/179 [==============================] - 3s 19ms/step - loss: 0.0034 - accuracy: 0.9919 - val_loss: 0.1369 - val_accuracy: 0.6825\n",
            "Epoch 21/40\n",
            "179/179 [==============================] - 2s 14ms/step - loss: 0.0016 - accuracy: 0.9967 - val_loss: 0.1405 - val_accuracy: 0.6687\n",
            "Epoch 22/40\n",
            "179/179 [==============================] - 2s 11ms/step - loss: 0.0030 - accuracy: 0.9928 - val_loss: 0.2968 - val_accuracy: 0.3313\n",
            "Epoch 23/40\n",
            "179/179 [==============================] - 2s 11ms/step - loss: 0.0060 - accuracy: 0.9844 - val_loss: 0.2343 - val_accuracy: 0.4613\n",
            "Epoch 24/40\n",
            "179/179 [==============================] - 2s 11ms/step - loss: 0.0044 - accuracy: 0.9893 - val_loss: 0.1114 - val_accuracy: 0.7431\n",
            "Epoch 25/40\n",
            "179/179 [==============================] - 2s 11ms/step - loss: 0.0016 - accuracy: 0.9963 - val_loss: 0.1360 - val_accuracy: 0.6875\n",
            "Epoch 26/40\n",
            "179/179 [==============================] - 3s 15ms/step - loss: 0.0016 - accuracy: 0.9967 - val_loss: 0.1568 - val_accuracy: 0.6468\n",
            "Epoch 27/40\n",
            "179/179 [==============================] - 2s 13ms/step - loss: 0.0027 - accuracy: 0.9935 - val_loss: 0.0978 - val_accuracy: 0.7758\n",
            "Epoch 28/40\n",
            "179/179 [==============================] - 2s 11ms/step - loss: 0.0048 - accuracy: 0.9886 - val_loss: 0.1814 - val_accuracy: 0.5863\n",
            "Epoch 29/40\n",
            "179/179 [==============================] - 2s 11ms/step - loss: 0.0081 - accuracy: 0.9795 - val_loss: 0.1702 - val_accuracy: 0.6062\n",
            "Epoch 30/40\n",
            "179/179 [==============================] - 2s 11ms/step - loss: 0.0030 - accuracy: 0.9928 - val_loss: 0.1217 - val_accuracy: 0.7123\n",
            "Epoch 31/40\n",
            "179/179 [==============================] - 2s 11ms/step - loss: 0.0016 - accuracy: 0.9963 - val_loss: 0.1493 - val_accuracy: 0.6498\n",
            "Epoch 32/40\n",
            "179/179 [==============================] - 2s 12ms/step - loss: 0.0019 - accuracy: 0.9954 - val_loss: 0.1569 - val_accuracy: 0.6389\n",
            "Epoch 33/40\n",
            "179/179 [==============================] - 2s 12ms/step - loss: 0.0014 - accuracy: 0.9968 - val_loss: 0.0815 - val_accuracy: 0.8115\n",
            "Epoch 34/40\n",
            "179/179 [==============================] - 2s 12ms/step - loss: 0.0021 - accuracy: 0.9949 - val_loss: 0.1589 - val_accuracy: 0.6349\n",
            "Epoch 35/40\n",
            "179/179 [==============================] - 2s 11ms/step - loss: 0.0014 - accuracy: 0.9968 - val_loss: 0.1375 - val_accuracy: 0.6875\n",
            "Epoch 36/40\n",
            "179/179 [==============================] - 3s 14ms/step - loss: 0.0037 - accuracy: 0.9914 - val_loss: 0.1662 - val_accuracy: 0.6220\n",
            "Epoch 37/40\n",
            "179/179 [==============================] - 2s 12ms/step - loss: 0.0022 - accuracy: 0.9951 - val_loss: 0.1332 - val_accuracy: 0.7044\n",
            "Epoch 38/40\n",
            "179/179 [==============================] - 2s 12ms/step - loss: 0.0027 - accuracy: 0.9937 - val_loss: 0.1721 - val_accuracy: 0.6171\n",
            "Epoch 39/40\n",
            "179/179 [==============================] - 2s 13ms/step - loss: 0.0038 - accuracy: 0.9914 - val_loss: 0.2485 - val_accuracy: 0.4544\n",
            "Epoch 40/40\n",
            "179/179 [==============================] - 2s 12ms/step - loss: 0.0024 - accuracy: 0.9946 - val_loss: 0.2337 - val_accuracy: 0.4752\n"
          ]
        },
        {
          "output_type": "execute_result",
          "data": {
            "text/plain": [
              "<keras.callbacks.History at 0x7f1e10395f00>"
            ]
          },
          "metadata": {},
          "execution_count": 64
        }
      ]
    },
    {
      "cell_type": "code",
      "source": [
        "path= '/content/download.jpg'\n",
        "img = cv2.imread(path, 0)\n",
        "img = cv2.resize(img, (w, h), cv2.INTER_CUBIC)\n",
        "img = np.array([img]).reshape(h,w,1)/255\n",
        "pred = model.predict(np.array([img]))"
      ],
      "metadata": {
        "colab": {
          "base_uri": "https://localhost:8080/"
        },
        "id": "ZYIo7WsCm-M1",
        "outputId": "71ce989e-5635-4c81-b0cd-f6749a544aee"
      },
      "execution_count": 73,
      "outputs": [
        {
          "output_type": "stream",
          "name": "stdout",
          "text": [
            "1/1 [==============================] - 0s 19ms/step\n"
          ]
        }
      ]
    },
    {
      "cell_type": "code",
      "source": [
        "predicted_breed_index =np.argmax(pred[0])"
      ],
      "metadata": {
        "id": "Ym8HCiiRoAvu"
      },
      "execution_count": 74,
      "outputs": []
    },
    {
      "cell_type": "code",
      "source": [
        "breed_types = ['White Suffolk', 'Poll Dorset', 'Suffolk', 'Marino']\n",
        "\n",
        "# Get the predicted breed based on the index\n",
        "predicted_breed = breed_types[predicted_breed_index]\n",
        "\n",
        "print(\"Predicted Breed:\", predicted_breed)"
      ],
      "metadata": {
        "colab": {
          "base_uri": "https://localhost:8080/"
        },
        "id": "LIR-y8cLoC77",
        "outputId": "6f74d6a5-c0d1-42cb-8ff4-dfcebc381038"
      },
      "execution_count": 75,
      "outputs": [
        {
          "output_type": "stream",
          "name": "stdout",
          "text": [
            "Predicted Breed: Suffolk\n"
          ]
        }
      ]
    },
    {
      "cell_type": "code",
      "source": [],
      "metadata": {
        "id": "CmhxGbffoQpP"
      },
      "execution_count": null,
      "outputs": []
    }
  ]
}